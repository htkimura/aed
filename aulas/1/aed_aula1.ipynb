{
  "nbformat": 4,
  "nbformat_minor": 0,
  "metadata": {
    "colab": {
      "provenance": []
    },
    "kernelspec": {
      "name": "python3",
      "display_name": "Python 3"
    },
    "language_info": {
      "name": "python"
    }
  },
  "cells": [
    {
      "cell_type": "markdown",
      "source": [
        "# Aula 1 (27/02)\n",
        "\n",
        "Nesta aula estamos fazendo uma revisão do conteúdo aprendido na disciplina de Algoritmos e Estruturas de dados.\n",
        "\n",
        "Como exemplo de implementação de uma fila, neste arquivo do colab apresento uma inicialização, impressão, inserção e remoção de itens em uma fila."
      ],
      "metadata": {
        "id": "RNt3Ij4rzX80"
      }
    },
    {
      "cell_type": "code",
      "source": [
        "queue = []\n",
        "\n",
        "print(\"fila vazia:\", queue)\n",
        "\n",
        "queue.append('a')\n",
        "queue.append('b')\n",
        "queue.append('c')\n",
        "queue.append('d')\n",
        "\n",
        "print(\"fila preenchida:\", queue)\n",
        "\n",
        "print(\"removendo item 0 (primeiro) da fila\")\n",
        "\n",
        "removed_element = queue.pop(0)\n",
        "\n",
        "print(\"fila:\", queue)\n",
        "\n",
        "print(\"removendo item 1 (segundo) da fila\")\n",
        "\n",
        "removed_element = queue.pop(1)\n",
        "\n",
        "print(\"fila:\", queue)\n",
        "\n",
        "\n"
      ],
      "metadata": {
        "colab": {
          "base_uri": "https://localhost:8080/"
        },
        "id": "zYin9eQLx5We",
        "outputId": "08241e0d-6808-4f3c-84df-873900d2576d"
      },
      "execution_count": 8,
      "outputs": [
        {
          "output_type": "stream",
          "name": "stdout",
          "text": [
            "fila vazia: []\n",
            "fila preenchida: ['a', 'b', 'c', 'd']\n",
            "removendo item 0 (primeiro) da fila\n",
            "fila: ['b', 'c', 'd']\n",
            "removendo item 1 (segundo) da fila\n",
            "fila: ['b', 'd']\n"
          ]
        }
      ]
    }
  ]
}