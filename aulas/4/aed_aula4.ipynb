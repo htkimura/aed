{
  "nbformat": 4,
  "nbformat_minor": 0,
  "metadata": {
    "colab": {
      "provenance": []
    },
    "kernelspec": {
      "name": "python3",
      "display_name": "Python 3"
    },
    "language_info": {
      "name": "python"
    }
  },
  "cells": [
    {
      "cell_type": "markdown",
      "source": [
        "# Ordenação em bolha (bubble sort)\n",
        "O algoritmo de ordenação Bubble Sort é um dos algoritmos mais simples de entender e implementar. Ele recebe esse nome porque, durante sua execução, os elementos \"flutuam\" para suas posições corretas, assim como as bolhas em um tanque de água.\n",
        "\n",
        "A ideia básica por trás do Bubble Sort é iterar sobre a lista várias vezes, comparando pares de elementos adjacentes e trocando-os se estiverem na ordem errada. Esse processo de iteração é repetido até que nenhum elemento precise ser trocado, o que indica que a lista está ordenada.\n",
        "\n",
        "O algoritmo funciona assim:\n",
        "\n",
        "1. Começando do primeiro elemento da lista, compare-o com o próximo elemento.\n",
        "2. Se o primeiro elemento for maior que o próximo, troque-os de posição.\n",
        "3. Continue esse processo, movendo-se para a próxima posição na lista.\n",
        "\n",
        "- Quando você chegar ao final da lista, repita os passos de 1 a 3 até que nenhuma troca seja necessária em uma passagem completa pela lista.\n",
        "- O processo de comparar e trocar elementos continua até que a lista esteja completamente ordenada. Uma característica importante do Bubble Sort é que, a cada iteração completa pela lista, o maior elemento (ou o menor, dependendo da direção da ordenação) \"flutua\" para a sua posição final.\n",
        "\n",
        "Apesar de ser fácil de entender e implementar, o Bubble Sort não é eficiente para grandes conjuntos de dados. Sua complexidade de tempo é O(n^2), onde 'n' é o número de elementos na lista. Isso significa que o tempo necessário para ordenar a lista aumenta quadraticamente com o número de elementos, tornando o Bubble Sort impraticável para grandes conjuntos de dados. No entanto, é útil para fins educacionais devido à sua simplicidade conceitual."
      ],
      "metadata": {
        "id": "hU1Xjjaew6ZG"
      }
    },
    {
      "cell_type": "code",
      "execution_count": 9,
      "metadata": {
        "colab": {
          "base_uri": "https://localhost:8080/"
        },
        "id": "5wJbkp5Ju9l5",
        "outputId": "37acdd83-2a03-4d53-a4fa-c43e665c4789"
      },
      "outputs": [
        {
          "output_type": "stream",
          "name": "stdout",
          "text": [
            "Lista ordenada:\n",
            "[2, 3, 5, 7, 8]\n"
          ]
        }
      ],
      "source": [
        "def bubble_sort(arr):\n",
        "    n = len(arr)\n",
        "    for i in range(n):\n",
        "        swapped = False\n",
        "        for j in range(0, n-i-1):\n",
        "            if arr[j] > arr[j+1]:\n",
        "                arr[j], arr[j+1] = arr[j+1], arr[j]\n",
        "                swapped = True\n",
        "        if not swapped:\n",
        "            break\n",
        "\n",
        "# Exemplo de uso:\n",
        "arr = [5, 3, 8, 2, 7]\n",
        "bubble_sort(arr)\n",
        "print(\"Lista ordenada:\")\n",
        "print(arr)\n"
      ]
    },
    {
      "cell_type": "markdown",
      "source": [
        "Agora, vamos passar pelo algoritmo Bubble Sort para entender o algoritmo acima,ordenando a lista doe exemplo:\n",
        "\n",
        "```python\n",
        "[5, 3, 8, 2, 7]\n",
        "```\n",
        "\n",
        "## Primeira iteração\n",
        "\n",
        "Comparação entre 5 e 3: Como 5 é maior que 3, eles são trocados. A lista se torna [3, 5, 8, 2, 7].\n",
        "\n",
        "Comparação entre 5 e 8: Nenhuma troca é necessária.\n",
        "\n",
        "Comparação entre 8 e 2: Como 8 é maior que 2, eles são trocados. A lista se torna [3, 5, 2, 8, 7].\n",
        "\n",
        "Comparação entre 8 e 7: Como 8 é maior que 7, eles são trocados. A lista se torna [3, 5, 2, 7, 8].\n",
        "\n",
        "Após a primeira iteração, o maior elemento (8) está na posição correta, na extremidade direita da lista.\n",
        "\n",
        "## Segunda iteração\n",
        "\n",
        "Comparação entre 3 e 5: Nenhuma troca é necessária.\n",
        "\n",
        "Comparação entre 5 e 2: Como 5 é maior que 2, eles são trocados. A lista se torna [3, 2, 5, 7, 8].\n",
        "\n",
        "Comparação entre 5 e 7: Nenhuma troca é necessária.\n",
        "\n",
        "Após a segunda iteração, o segundo maior elemento (7) está na posição correta, adjacente ao maior elemento.\n",
        "\n",
        "## Terceira iteração\n",
        "\n",
        "Comparação entre 3 e 2: Como 3 é maior que 2, eles são trocados. A lista se torna [2, 3, 5, 7, 8].\n",
        "\n",
        "Após a terceira iteração, o terceiro maior elemento (5) está na posição correta.\n",
        "\n",
        "## Quarta iteração\n",
        "\n",
        "Comparação entre 2 e 3: Nenhuma troca é necessária.\n",
        "\n",
        "Após a quarta iteração, o quarto maior elemento (3) já está na posição correta.\n",
        "\n",
        "## Quinta iteração\n",
        "\n",
        "Não há mais trocas necessárias, pois todos os elementos já estão na posição correta.\n",
        "\n",
        "Após todas as iterações, a lista está ordenada:\n",
        "\n",
        "```python\n",
        "[2, 3, 5, 7, 8]\n",
        "```\n",
        "\n",
        "O algoritmo bubble sort repete esse processo de comparação e troca até que nenhum elemento precise mais ser trocado, garantindo que a lista esteja completamente ordenada."
      ],
      "metadata": {
        "id": "fnBkV-_wxTvq"
      }
    }
  ]
}