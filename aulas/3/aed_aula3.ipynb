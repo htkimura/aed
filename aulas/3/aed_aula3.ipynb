{
  "nbformat": 4,
  "nbformat_minor": 0,
  "metadata": {
    "colab": {
      "provenance": []
    },
    "kernelspec": {
      "name": "python3",
      "display_name": "Python 3"
    },
    "language_info": {
      "name": "python"
    }
  },
  "cells": [
    {
      "cell_type": "markdown",
      "source": [],
      "metadata": {
        "id": "q98rAfOs88Hm"
      }
    },
    {
      "cell_type": "markdown",
      "source": [
        "# Analisando a complexidade de um algoritmo\n",
        "\n",
        "Para esta aula, vou fazer a análise de um algoritmo simples de ordenação em bolha, o classico bubble sort\n",
        "\n",
        "O algoritmo de ordenação Bubble Sort percorre a lista várias vezes, comparando elementos adjacentes e trocando-os se estiverem na ordem errada.\n",
        "\n",
        "Abaixo, segue o algoritmo em questão:"
      ],
      "metadata": {
        "id": "mKDsnEme8aja"
      }
    },
    {
      "cell_type": "code",
      "source": [
        "def bubble_sort(arr):\n",
        "    n = len(arr)\n",
        "    for i in range(n):\n",
        "        for j in range(0, n-i-1):\n",
        "            if arr[j] > arr[j+1]:\n",
        "                arr[j], arr[j+1] = arr[j+1], arr[j]\n",
        "\n",
        "# Exemplo de uso:\n",
        "arr = [64, 34, 25, 12, 22, 11, 90]\n",
        "bubble_sort(arr)\n",
        "print(\"Lista ordenada:\")\n",
        "for i in range(len(arr)):\n",
        "    print(\"%d\" % arr[i])\n"
      ],
      "metadata": {
        "colab": {
          "base_uri": "https://localhost:8080/"
        },
        "id": "tFY_QNsa-40U",
        "outputId": "c291adc3-0aa2-4780-d602-ac9c0f7fcd94"
      },
      "execution_count": 11,
      "outputs": [
        {
          "output_type": "stream",
          "name": "stdout",
          "text": [
            "Lista ordenada:\n",
            "11\n",
            "12\n",
            "22\n",
            "25\n",
            "34\n",
            "64\n",
            "90\n"
          ]
        }
      ]
    },
    {
      "cell_type": "markdown",
      "source": [
        "Para simplificar, vamos considerar apenas o pior caso, onde o algoritmo sempre precisa percorrer a lista completa.\n",
        "\n",
        "Vamos fazer um exemplo de cálculo para uma lista de tamanho 5:\n",
        "\n",
        "1. Para o primeiro elemento, precisamos compará-lo com os outros 4 elementos. Então, serão 4 comparações.\n",
        "2. Para o segundo elemento, precisamos compará-lo com os outros 3 elementos restantes (já que o primeiro já está no lugar certo). Serão mais 3 comparações.\n",
        "3. Para o terceiro elemento, serão 2 comparações.\n",
        "4. Para o quarto elemento, será apenas 1 comparação.\n",
        "5. Para o quinto elemento, não é necessário fazer nenhuma comparação, pois todos os outros elementos já estarão no lugar certo.\n",
        "\n",
        "Somando todas as comparações, teremos:\n",
        "\n",
        "$$\n",
        "4 + 3 + 2 + 1 + 0 = 10\n",
        "$$\n",
        "\n",
        "Portanto, para uma lista de tamanho 5, serão realizadas 10 comparações no total. Isso segue uma sequência triangular. Mas como estamos considerando a complexidade de tempo, não nos importamos tanto com os valores exatos, mas com a tendência conforme o tamanho da lista aumenta.\n",
        "\n",
        "O algoritmo Bubble Sort consiste em dois loops aninhados. O loop externo percorre a lista inteira, e o loop interno compara elementos adjacentes e os troca se estiverem na ordem errada. Vamos analisar isso mais detalhadamente:\n",
        "\n",
        "1. O loop externo faz 'n' iterações, onde 'n' é o número de elementos na lista. Isso ocorre porque cada iteração do loop externo avança o elemento mais à direita (o maior elemento da lista não classificada) para sua posição final.\n",
        "2. O loop interno é executado 'n-1' vezes na primeira iteração do loop externo, 'n-2' vezes na segunda iteração e assim por diante, até '1' vez na última iteração do loop externo.\n",
        "\n",
        "Então, o número total de comparações (ou trocas) feitas pelo Bubble Sort é a soma dos números de 1 a 'n-1', que é uma soma aritmética e pode ser calculada pela fórmula da soma de Gauss (veja a seguir). Então, para uma lista de tamanho 'n', teremos um total de comparações aproximadamente igual a:\n",
        "\n",
        "$$\n",
        "1 + 2 + 3 + ... + (n-1) = \\frac{n \\times (n-1)}{2}\n",
        "$$\n",
        "\n",
        "Assim, o número de comparações é proporcional a 'n^2', o que significa que a complexidade de tempo do Bubble Sort é O(n^2)."
      ],
      "metadata": {
        "id": "uQ6u2nSh_gtT"
      }
    }
  ]
}