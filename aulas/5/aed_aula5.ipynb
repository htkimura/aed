{
  "nbformat": 4,
  "nbformat_minor": 0,
  "metadata": {
    "colab": {
      "provenance": []
    },
    "kernelspec": {
      "name": "python3",
      "display_name": "Python 3"
    },
    "language_info": {
      "name": "python"
    }
  },
  "cells": [
    {
      "cell_type": "markdown",
      "source": [
        "# Fila priorizada implementada em Heap\n",
        "\n",
        "## Conceitos\n",
        "\n",
        "1. Fila de Prioridade: Uma fila de prioridade é uma estrutura de dados que armazena elementos com uma determinada prioridade e permite que os elementos com maior prioridade sejam acessados ou removidos primeiro.\n",
        "Heap:\n",
        "\n",
        "2. Uma heap é uma árvore binária especial onde cada nó pai tem um valor menor ou igual aos seus filhos. Isso é chamado de propriedade da heap. Na fila de prioridade baseada em heap, a prioridade mais alta é mantida no topo da heap.\n",
        "\n",
        "## Implementação\n",
        "\n",
        "A seguir, segue uma fila priozidade implementada em python (baseada na estrutura heap) sem a utilização de uma biblioteca:\n",
        "\n"
      ],
      "metadata": {
        "id": "lX9ab9hrAlp2"
      }
    },
    {
      "cell_type": "code",
      "execution_count": 1,
      "metadata": {
        "colab": {
          "base_uri": "https://localhost:8080/"
        },
        "id": "gyvHPGTLAkQV",
        "outputId": "345b712e-814d-438d-e7d8-ac718f23ee6f"
      },
      "outputs": [
        {
          "output_type": "stream",
          "name": "stdout",
          "text": [
            "1\n",
            "3\n"
          ]
        }
      ],
      "source": [
        "class PriorityQueue:\n",
        "    def __init__(self): # Inicializa a fila de prioridade como uma lista vazia.\n",
        "        self.heap = []\n",
        "\n",
        "    # Funções auxiliares para encontrar os índices dos pais e filhos de um nó em uma heap.\n",
        "\n",
        "    def parent(self, i):\n",
        "        return (i - 1) // 2\n",
        "\n",
        "    def left_child(self, i):\n",
        "        return 2 * i + 1\n",
        "\n",
        "    def right_child(self, i):\n",
        "        return 2 * i + 2\n",
        "\n",
        "    def swap(self, i, j): # Troca os elementos em duas posições da lista (usada para manter a propriedade da heap).\n",
        "        self.heap[i], self.heap[j] = self.heap[j], self.heap[i]\n",
        "\n",
        "    # Métodos principais\n",
        "\n",
        "    def push(self, value): # Adiciona um elemento à fila de prioridade.\n",
        "        self.heap.append(value)\n",
        "        self._sift_up(len(self.heap) - 1)\n",
        "\n",
        "    def pop(self): # Remove e retorna o elemento de maior prioridade da fila de prioridade.\n",
        "        if not self.heap:\n",
        "            return None\n",
        "        self.swap(0, len(self.heap) - 1)\n",
        "        top = self.heap.pop()\n",
        "        self._sift_down(0)\n",
        "        return top\n",
        "\n",
        "    def peek(self): # Retorna o elemento de maior prioridade sem removê-lo da fila de prioridade.\n",
        "        if not self.heap:\n",
        "            return None\n",
        "        return self.heap[0]\n",
        "\n",
        "    # Operações de heap\n",
        "\n",
        "    def _sift_up(self, i): # Mantém a propriedade da heap após a inserção de um novo elemento, movendo-o para cima na árvore, se necessário.\n",
        "        while i > 0 and self.heap[self.parent(i)] > self.heap[i]:\n",
        "            self.swap(i, self.parent(i))\n",
        "            i = self.parent(i)\n",
        "\n",
        "    def _sift_down(self, i): # Mantém a propriedade da heap após a remoção de um elemento, movendo-o para baixo na árvore, se necessário.\n",
        "        min_index = i\n",
        "        left = self.left_child(i)\n",
        "        right = self.right_child(i)\n",
        "        n = len(self.heap)\n",
        "        if left < n and self.heap[left] < self.heap[min_index]:\n",
        "            min_index = left\n",
        "        if right < n and self.heap[right] < self.heap[min_index]:\n",
        "            min_index = right\n",
        "        if i != min_index:\n",
        "            self.swap(i, min_index)\n",
        "            self._sift_down(min_index)\n",
        "\n",
        "\n",
        "# Exemplo de uso:\n",
        "pq = PriorityQueue()\n",
        "pq.push(5)\n",
        "pq.push(3)\n",
        "pq.push(7)\n",
        "pq.push(1)\n",
        "print(pq.pop())  # Saída: 1\n",
        "print(pq.pop())  # Saída: 3\n"
      ]
    },
    {
      "cell_type": "markdown",
      "source": [
        "## Teste de mesa\n",
        "\n",
        "Agora que temos toda a implementação e a sua respectiva explicação nos comentários acima, podemos fazer um **teste de mesa** do exemplo para podermos compreeder melhor o funcionamento do algoritmo.\n",
        "\n",
        "\n",
        "1. **Inicialização da fila de prioridade:**\n",
        "   - No início, a fila de prioridade está vazia.\n",
        "\n",
        "2. **Inserção dos elementos:**\n",
        "   - `pq.push(5)`: Adiciona o elemento 5 à fila de prioridade.\n",
        "     - Fila de prioridade: `[5]`\n",
        "   - `pq.push(3)`: Adiciona o elemento 3 à fila de prioridade.\n",
        "     - Fila de prioridade: `[3, 5]`\n",
        "   - `pq.push(7)`: Adiciona o elemento 7 à fila de prioridade.\n",
        "     - Fila de prioridade: `[3, 5, 7]`\n",
        "   - `pq.push(1)`: Adiciona o elemento 1 à fila de prioridade.\n",
        "     - Fila de prioridade: `[1, 3, 7, 5]`\n",
        "\n",
        "3. **Remoção dos elementos:**\n",
        "   - `print(pq.pop())`: Remove e retorna o elemento de maior prioridade da fila de prioridade, que é 1.\n",
        "     - Fila de prioridade após a remoção: `[3, 5, 7]`\n",
        "     - Saída: `1`\n",
        "   - `print(pq.pop())`: Remove e retorna o próximo elemento de maior prioridade, que é 3.\n",
        "     - Fila de prioridade após a remoção: `[5, 7, 3]`\n",
        "     - Saída: `3`\n",
        "\n",
        "Após essas operações, a fila de prioridade estará vazia novamente. O teste de mesa nos permite visualizar como a fila de prioridade é construída e manipulada, garantindo que as operações de inserção e remoção estejam funcionando corretamente."
      ],
      "metadata": {
        "id": "K4QBu12bDgTy"
      }
    },
    {
      "cell_type": "markdown",
      "source": [
        "## Impressão do heap\n",
        "\n",
        "Temos a implementação de uma fila priorizada baseada em heap sem nenhuma biblioteca. Agora, para complementar, vamos fazer a impressão dessa fila."
      ],
      "metadata": {
        "id": "Nje_UKCoENZi"
      }
    },
    {
      "cell_type": "code",
      "source": [
        "def print_heap(heap):\n",
        "    \"\"\"\n",
        "    Função para imprimir visualmente um array como uma árvore binária completa (heap).\n",
        "\n",
        "    Argumentos:\n",
        "    heap: Uma lista representando o array (ou heap).\n",
        "    \"\"\"\n",
        "    # Função auxiliar para imprimir espaços\n",
        "    def print_spaces(count):\n",
        "        print(\" \" * count, end=\"\")\n",
        "\n",
        "    # Função auxiliar para imprimir os elementos\n",
        "    def print_elements(start, end, level):\n",
        "        for i in range(start, end + 1):\n",
        "            print_spaces((2 ** (max_level - level + 1) - 3) // 2)\n",
        "            print(heap[i], end=\"\")\n",
        "            print_spaces((2 ** (max_level - level + 1) - 3) // 2)\n",
        "            if i != end:\n",
        "                print_spaces(3)\n",
        "        print()\n",
        "\n",
        "    # Calcula o número total de níveis da árvore\n",
        "    max_level = 0\n",
        "    while 2 ** max_level - 1 < len(heap):\n",
        "        max_level += 1\n",
        "\n",
        "    # Imprime cada nível da árvore\n",
        "    for level in range(max_level):\n",
        "        start_index = 2 ** level - 1\n",
        "        end_index = min(2 ** (level + 1) - 2, len(heap) - 1)\n",
        "        print_elements(start_index, end_index, level)\n",
        "        if level < max_level - 1:\n",
        "            print()\n"
      ],
      "metadata": {
        "id": "5t-s8bZiEHMi"
      },
      "execution_count": 2,
      "outputs": []
    },
    {
      "cell_type": "markdown",
      "source": [
        "Agora que temos a implementação do código necessário para a impressão, vamos:\n",
        "1. Imprimir a fila como ela está após as alterações\n",
        "2. Adicionar novamente os elementos 1 e 3\n",
        "3. Imprimir a fila novamente após as adicções"
      ],
      "metadata": {
        "id": "f15En2RRFBEW"
      }
    },
    {
      "cell_type": "code",
      "source": [
        "print_heap(pq.heap)\n",
        "pq.push(1)\n",
        "pq.push(3)\n",
        "print(\"---===----\")\n",
        "print_heap(pq.heap)\n"
      ],
      "metadata": {
        "colab": {
          "base_uri": "https://localhost:8080/"
        },
        "id": "IcBhNpWeFR_q",
        "outputId": "001d7544-501f-43bc-f1e6-7721be30cf5b"
      },
      "execution_count": 3,
      "outputs": [
        {
          "output_type": "stream",
          "name": "stdout",
          "text": [
            "  5  \n",
            "\n",
            "7\n",
            "---===----\n",
            "      1      \n",
            "\n",
            "  3       5  \n",
            "\n",
            "7\n"
          ]
        }
      ]
    }
  ]
}